{
 "cells": [
  {
   "cell_type": "code",
   "execution_count": 1,
   "metadata": {},
   "outputs": [],
   "source": [
    "from definitions import *"
   ]
  },
  {
   "cell_type": "code",
   "execution_count": 2,
   "metadata": {},
   "outputs": [],
   "source": [
    "a, b = (-1, 0), (1, 0.1)\n",
    "\n",
    "dataset1 = generate_dataset(10 ** 5, random_point_in_rect(1000))\n",
    "dataset2 = generate_dataset(10 ** 5, random_point_in_rect(10 ** 14))\n",
    "dataset3 = generate_dataset(1000, random_point_on_circle(100))\n",
    "dataset4 = generate_dataset(1000, random_point_on_line(a, b, (-1000, 1000)))"
   ]
  },
  {
   "cell_type": "code",
   "execution_count": 3,
   "metadata": {},
   "outputs": [
    {
     "data": {
      "image/png": "[encoded data removed]",
      "text/plain": [
       "<Figure size 432x288 with 1 Axes>"
      ]
     },
     "metadata": {
      "needs_background": "light"
     },
     "output_type": "display_data"
    }
   ],
   "source": [
    "plot({ 'points': dataset1 })"
   ]
  },
  {
   "cell_type": "code",
   "execution_count": 4,
   "metadata": {},
   "outputs": [
    {
     "data": {
      "image/png": "[encoded data removed]",
      "text/plain": [
       "<Figure size 432x288 with 1 Axes>"
      ]
     },
     "metadata": {
      "needs_background": "light"
     },
     "output_type": "display_data"
    }
   ],
   "source": [
    "plot({ 'points': dataset2 })"
   ]
  },
  {
   "cell_type": "code",
   "execution_count": 5,
   "metadata": {},
   "outputs": [
    {
     "data": {
      "image/png": "[encoded data removed]",
      "text/plain": [
       "<Figure size 432x288 with 1 Axes>"
      ]
     },
     "metadata": {
      "needs_background": "light"
     },
     "output_type": "display_data"
    }
   ],
   "source": [
    "plot({ 'points': dataset3 })"
   ]
  },
  {
   "cell_type": "code",
   "execution_count": 6,
   "metadata": {},
   "outputs": [
    {
     "data": {
      "image/png": "[encoded data removed]",
      "text/plain": [
       "<Figure size 432x288 with 1 Axes>"
      ]
     },
     "metadata": {
      "needs_background": "light"
     },
     "output_type": "display_data"
    }
   ],
   "source": [
    "plot({ 'points': dataset4 })"
   ]
  },
  {
   "cell_type": "code",
   "execution_count": 7,
   "metadata": {},
   "outputs": [],
   "source": [
    "def det1(a, b, c):\n",
    "    (ax, ay) = a\n",
    "    (bx, by) = b\n",
    "    (cx, cy) = c\n",
    "    return ax * by + ay * cx + bx * cy - by * cx - cy * ax - ay * bx\n",
    "\n",
    "def det2(a, b, c):\n",
    "    (ax, ay) = a\n",
    "    (bx, by) = b\n",
    "    (cx, cy) = c\n",
    "    return (ax - cx) * (by - cy) - (ay - cy) * (bx - cx)"
   ]
  },
  {
   "cell_type": "code",
   "execution_count": 8,
   "metadata": {},
   "outputs": [],
   "source": [
    "def split(dataset, det, eps=0):\n",
    "    L, R, EQ = [], [], []\n",
    "    for point in dataset:\n",
    "        d = det(a, b, point)\n",
    "        if abs(d) < eps: EQ.append(point)\n",
    "        elif d > 0: L.append(point) \n",
    "        else: R.append(point)\n",
    "    return L, EQ, R"
   ]
  },
  {
   "cell_type": "code",
   "execution_count": 9,
   "metadata": {},
   "outputs": [],
   "source": [
    "def show_cmp(dataset, det_method, eps=0):\n",
    "    result = split(dataset, det_method, eps)\n",
    "    L, EQ, R = result\n",
    "    plot(\n",
    "        { 'points': R, 'color': 'red' },\n",
    "        { 'points': L, 'color': 'blue' },\n",
    "        { 'points': EQ, 'color': 'green' }\n",
    "    )\n",
    "    L, EQ, R = tuple(map(len, result))\n",
    "    print ('L', L, 'R', R, 'EQ', EQ)"
   ]
  },
  {
   "cell_type": "code",
   "execution_count": 10,
   "metadata": {},
   "outputs": [],
   "source": [
    "def show_cmp_text(dataset, label, eps=0):\n",
    "    def count(result):\n",
    "        L, EQ, R = tuple(map(len, result))\n",
    "        return { 'L': L, 'EQ': EQ, 'R': R }\n",
    "    result1 = count(split(dataset, det1, eps))\n",
    "    result2 = count(split(dataset, det2, eps))\n",
    "    print (label)\n",
    "    print ('det1:', result1)\n",
    "    print ('det2:', result2)\n",
    "    print ('')\n",
    "    "
   ]
  },
  {
   "cell_type": "markdown",
   "metadata": {},
   "source": [
    "## Porównywanie wyników\n",
    "* bez epsilon"
   ]
  },
  {
   "cell_type": "code",
   "execution_count": 11,
   "metadata": {},
   "outputs": [
    {
     "name": "stdout",
     "output_type": "stream",
     "text": [
      "dataset1\n",
      "det1: {'L': 49867, 'EQ': 0, 'R': 50133}\n",
      "det2: {'L': 49867, 'EQ': 0, 'R': 50133}\n",
      "\n",
      "dataset2\n",
      "det1: {'L': 50025, 'EQ': 0, 'R': 49975}\n",
      "det2: {'L': 50024, 'EQ': 0, 'R': 49976}\n",
      "\n",
      "dataset3\n",
      "det1: {'L': 495, 'EQ': 0, 'R': 505}\n",
      "det2: {'L': 495, 'EQ': 0, 'R': 505}\n",
      "\n",
      "dataset4\n",
      "det1: {'L': 166, 'EQ': 0, 'R': 834}\n",
      "det2: {'L': 145, 'EQ': 0, 'R': 855}\n",
      "\n"
     ]
    }
   ],
   "source": [
    "show_cmp_text(dataset1, 'dataset1')\n",
    "show_cmp_text(dataset2, 'dataset2')\n",
    "show_cmp_text(dataset3, 'dataset3')\n",
    "show_cmp_text(dataset4, 'dataset4')"
   ]
  },
  {
   "cell_type": "markdown",
   "metadata": {},
   "source": [
    "* epsilon = $10^{-14}$"
   ]
  },
  {
   "cell_type": "code",
   "execution_count": 12,
   "metadata": {},
   "outputs": [
    {
     "name": "stdout",
     "output_type": "stream",
     "text": [
      "dataset1\n",
      "det1: {'L': 49867, 'EQ': 0, 'R': 50133}\n",
      "det2: {'L': 49867, 'EQ': 0, 'R': 50133}\n",
      "\n",
      "dataset2\n",
      "det1: {'L': 50025, 'EQ': 0, 'R': 49975}\n",
      "det2: {'L': 50024, 'EQ': 2, 'R': 49974}\n",
      "\n",
      "dataset3\n",
      "det1: {'L': 495, 'EQ': 0, 'R': 505}\n",
      "det2: {'L': 495, 'EQ': 0, 'R': 505}\n",
      "\n",
      "dataset4\n",
      "det1: {'L': 0, 'EQ': 1000, 'R': 0}\n",
      "det2: {'L': 130, 'EQ': 721, 'R': 149}\n",
      "\n"
     ]
    }
   ],
   "source": [
    "show_cmp_text(dataset1, 'dataset1', 10 ** -14)\n",
    "show_cmp_text(dataset2, 'dataset2', 10 ** -14)\n",
    "show_cmp_text(dataset3, 'dataset3', 10 ** -14)\n",
    "show_cmp_text(dataset4, 'dataset4', 10 ** -14)"
   ]
  },
  {
   "cell_type": "markdown",
   "metadata": {},
   "source": [
    "## Wizualizacje klasyfikacji zbiorów"
   ]
  },
  {
   "cell_type": "code",
   "execution_count": 13,
   "metadata": {},
   "outputs": [],
   "source": [
    "# Konfiguracja dla wszystkich poniżyszych wizualizacji\n",
    "det = det1  \n",
    "eps = 10 ** -14"
   ]
  },
  {
   "cell_type": "code",
   "execution_count": 14,
   "metadata": {},
   "outputs": [
    {
     "name": "stdout",
     "output_type": "stream",
     "text": [
      "L 49867 R 50133 EQ 0\n"
     ]
    },
    {
     "data": {
      "image/png": "[encoded data removed]",
      "text/plain": [
       "<Figure size 432x288 with 1 Axes>"
      ]
     },
     "metadata": {
      "needs_background": "light"
     },
     "output_type": "display_data"
    }
   ],
   "source": [
    "show_cmp(dataset1, det, eps)"
   ]
  },
  {
   "cell_type": "code",
   "execution_count": 15,
   "metadata": {},
   "outputs": [
    {
     "name": "stdout",
     "output_type": "stream",
     "text": [
      "L 50025 R 49975 EQ 0\n"
     ]
    },
    {
     "data": {
      "image/png": "[encoded data removed]",
      "text/plain": [
       "<Figure size 432x288 with 1 Axes>"
      ]
     },
     "metadata": {
      "needs_background": "light"
     },
     "output_type": "display_data"
    }
   ],
   "source": [
    "show_cmp(dataset2, det, eps)"
   ]
  },
  {
   "cell_type": "code",
   "execution_count": 16,
   "metadata": {},
   "outputs": [
    {
     "name": "stdout",
     "output_type": "stream",
     "text": [
      "L 495 R 505 EQ 0\n"
     ]
    },
    {
     "data": {
      "image/png": "[encoded data removed]",
      "text/plain": [
       "<Figure size 432x288 with 1 Axes>"
      ]
     },
     "metadata": {
      "needs_background": "light"
     },
     "output_type": "display_data"
    }
   ],
   "source": [
    "show_cmp(dataset3, det, eps)"
   ]
  },
  {
   "cell_type": "code",
   "execution_count": 17,
   "metadata": {},
   "outputs": [
    {
     "name": "stdout",
     "output_type": "stream",
     "text": [
      "L 0 R 0 EQ 1000\n"
     ]
    },
    {
     "data": {
      "image/png": "[encoded data removed]",
      "text/plain": [
       "<Figure size 432x288 with 1 Axes>"
      ]
     },
     "metadata": {
      "needs_background": "light"
     },
     "output_type": "display_data"
    }
   ],
   "source": [
    "show_cmp(dataset4, det, eps)"
   ]
  }
 ],
 "metadata": {
  "kernelspec": {
   "display_name": "Python 3",
   "language": "python",
   "name": "python3"
  },
  "language_info": {
   "codemirror_mode": {
    "name": "ipython",
    "version": 3
   },
   "file_extension": ".py",
   "mimetype": "text/x-python",
   "name": "python",
   "nbconvert_exporter": "python",
   "pygments_lexer": "ipython3",
   "version": "3.7.4"
  }
 },
 "nbformat": 4,
 "nbformat_minor": 4
}
